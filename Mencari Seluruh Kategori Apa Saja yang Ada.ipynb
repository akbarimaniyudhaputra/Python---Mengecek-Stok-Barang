{
 "cells": [
  {
   "cell_type": "code",
   "execution_count": 1,
   "id": "78eabcba",
   "metadata": {},
   "outputs": [
    {
     "name": "stdout",
     "output_type": "stream",
     "text": [
      "{'Mi': 2, 'POCO ': 6, 'POCO': 1, nan: 4, 'Redmi': 5, 'Galaxy': 13, 'GalaxyZ': 7, 'Reno': 7, 'A series': 2, 'Find': 1, 'Y series': 5, 'X series': 1, 'V series': 3, 'Nova ': 1, 'Mate': 1}\n"
     ]
    },
    {
     "name": "stderr",
     "output_type": "stream",
     "text": [
      "C:\\Users\\noname\\anaconda3\\lib\\site-packages\\IPython\\core\\interactiveshell.py:3444: FutureWarning: In a future version of pandas all arguments of read_csv except for the argument 'filepath_or_buffer' will be keyword-only\n",
      "  exec(code_obj, self.user_global_ns, self.user_ns)\n"
     ]
    }
   ],
   "source": [
    "import pandas as pd\n",
    "data = pd.read_csv(\"E:\\dataset\\smartphone.csv\", \";\")\n",
    "\n",
    "sumKategori = {}\n",
    "for x in data[\"kategori\"]:\n",
    "    if x in sumKategori.keys():\n",
    "        sumKategori[x] += 1\n",
    "    else:\n",
    "        sumKategori[x] = 1\n",
    "\n",
    "print(sumKategori)\n"
   ]
  },
  {
   "cell_type": "code",
   "execution_count": 2,
   "id": "5aa5eaa4",
   "metadata": {},
   "outputs": [
    {
     "data": {
      "text/plain": [
       "{'Mi': 2,\n",
       " 'POCO ': 6,\n",
       " 'POCO': 1,\n",
       " nan: 4,\n",
       " 'Redmi': 5,\n",
       " 'Galaxy': 13,\n",
       " 'GalaxyZ': 7,\n",
       " 'Reno': 7,\n",
       " 'A series': 2,\n",
       " 'Find': 1,\n",
       " 'Y series': 5,\n",
       " 'X series': 1,\n",
       " 'V series': 3,\n",
       " 'Nova ': 1,\n",
       " 'Mate': 1}"
      ]
     },
     "execution_count": 2,
     "metadata": {},
     "output_type": "execute_result"
    }
   ],
   "source": [
    "sumKategori"
   ]
  },
  {
   "cell_type": "code",
   "execution_count": 3,
   "id": "21e3602d",
   "metadata": {},
   "outputs": [
    {
     "name": "stdout",
     "output_type": "stream",
     "text": [
      "('Galaxy', 13)\n",
      "('GalaxyZ', 7)\n",
      "('Reno', 7)\n",
      "('POCO ', 6)\n",
      "('Redmi', 5)\n"
     ]
    }
   ],
   "source": [
    "from operator import itemgetter\n",
    "\n",
    "# men-sorting data kategori/series produk\n",
    "# berdasarkan value/nilai secara descending (besar ke kecil)\n",
    "sorting_data = sorted(sumKategori.items(), key=itemgetter(1), reverse=True)\n",
    "\n",
    "# menampilkan 5 data pertama hasil sorting\n",
    "for i in range(5):\n",
    "    print(sorting_data[i])"
   ]
  },
  {
   "cell_type": "code",
   "execution_count": null,
   "id": "2b48a62b",
   "metadata": {},
   "outputs": [],
   "source": []
  }
 ],
 "metadata": {
  "kernelspec": {
   "display_name": "Python 3 (ipykernel)",
   "language": "python",
   "name": "python3"
  },
  "language_info": {
   "codemirror_mode": {
    "name": "ipython",
    "version": 3
   },
   "file_extension": ".py",
   "mimetype": "text/x-python",
   "name": "python",
   "nbconvert_exporter": "python",
   "pygments_lexer": "ipython3",
   "version": "3.9.7"
  }
 },
 "nbformat": 4,
 "nbformat_minor": 5
}
