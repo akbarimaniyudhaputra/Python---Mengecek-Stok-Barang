{
 "cells": [
  {
   "cell_type": "code",
   "execution_count": 1,
   "id": "3b155cd9",
   "metadata": {},
   "outputs": [],
   "source": [
    "import pandas as pd\n",
    "from pandas import ExcelFile\n",
    "\n",
    "# lokasi file \n",
    "file = \"E:\\smartphone.xls\"\n",
    "# baca data excel pada sheet \"Sheet1\"\n",
    "dataSheet1 = pd.read_excel(file, sheet_name=\"Sheet1\")"
   ]
  },
  {
   "cell_type": "code",
   "execution_count": 2,
   "id": "03c24ee5",
   "metadata": {},
   "outputs": [
    {
     "name": "stdout",
     "output_type": "stream",
     "text": [
      "Jumlah produk Xiaomi  : 15\n",
      "Jumlah produk Oppo    : 10\n",
      "Jumlah produk Realme  : 3\n",
      "Jumlah produk Vivo    : 9\n",
      "Jumlah produk Huawei  : 2\n",
      "Jumlah produk Samsung : 20\n"
     ]
    }
   ],
   "source": [
    "# inisialisasi awal\n",
    "sumXiaomi = 0\n",
    "sumSamsung = 0\n",
    "sumOppo = 0\n",
    "sumRealme = 0\n",
    "sumVivo = 0\n",
    "sumHuawei = 0\n",
    "#gabolehhh ada data kosong atau NaN/Null pada kolom/field yg ada di excel/file !!!!!!!!!!!!!!!!!!!\n",
    "#baca data hanya pada kolom nama produk\n",
    "for data in dataSheet1[\"nama produk\"]:\n",
    "    if data[:6] == \"Xiaomi\": #membaca 6 digit digit ke 1-6\n",
    "        sumXiaomi += 1 #counter bertambah\n",
    "    if data[:4] == \"Oppo\": #membaca 4 digit digit ke 1-4\n",
    "        sumOppo += 1 #counter bertambah\n",
    "    if data[:6] == \"Realme\": #membaca 6 digit digit ke 1-6\n",
    "        sumRealme += 1 #counter bertambah\n",
    "    if data[:4] == \"Vivo\": #membaca 4 digit digit ke 1-4\n",
    "        sumVivo += 1 #counter bertambah\n",
    "    if data[:6] == \"Huawei\": #membaca 6 digit digit ke 1-6\n",
    "        sumHuawei += 1 #counter bertambah\n",
    "    elif data[:7] == \"Samsung\": #membaca 7 digit ke 1-7\n",
    "        sumSamsung += 1 #counter bertambah\n",
    "# untuk tampilan output\n",
    "print(\"Jumlah produk Xiaomi  :\", sumXiaomi)\n",
    "print(\"Jumlah produk Oppo    :\", sumOppo)\n",
    "print(\"Jumlah produk Realme  :\", sumRealme)\n",
    "print(\"Jumlah produk Vivo    :\", sumVivo)\n",
    "print(\"Jumlah produk Huawei  :\", sumHuawei)\n",
    "print(\"Jumlah produk Samsung :\", sumSamsung)"
   ]
  },
  {
   "cell_type": "code",
   "execution_count": null,
   "id": "01e3d91e",
   "metadata": {},
   "outputs": [],
   "source": []
  }
 ],
 "metadata": {
  "kernelspec": {
   "display_name": "Python 3 (ipykernel)",
   "language": "python",
   "name": "python3"
  },
  "language_info": {
   "codemirror_mode": {
    "name": "ipython",
    "version": 3
   },
   "file_extension": ".py",
   "mimetype": "text/x-python",
   "name": "python",
   "nbconvert_exporter": "python",
   "pygments_lexer": "ipython3",
   "version": "3.9.7"
  }
 },
 "nbformat": 4,
 "nbformat_minor": 5
}
