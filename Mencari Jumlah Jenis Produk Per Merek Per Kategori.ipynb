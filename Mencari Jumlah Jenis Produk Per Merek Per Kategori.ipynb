{
 "cells": [
  {
   "cell_type": "code",
   "execution_count": 1,
   "id": "5abe315f",
   "metadata": {},
   "outputs": [],
   "source": [
    "import pandas as pd\n",
    "from pandas import ExcelFile\n",
    "\n",
    "# lokasi file\n",
    "file = \"e:\\smartphone.xls\"\n",
    "# baca data excel pada sheet \"Sheet1\"\n",
    "dataSheet1 = pd.read_excel(file, sheet_name=\"Sheet1\")"
   ]
  },
  {
   "cell_type": "code",
   "execution_count": 2,
   "id": "06b56a73",
   "metadata": {},
   "outputs": [],
   "source": [
    "# list seluruh Kategori\n",
    "listKategori = [\"Mi\", \"PO\", \"Re\", \"Galaxy-\", \"GalaxyZ\", \"Ren\", \"Fin\", \"A54\", \"A74\", \"Y\", \"X\", \"V\", \"Nova\", \"Mate\", \"C2\", \"8-\", \"GT\"]\n",
    "# inisialisasi awal per produk\n",
    "sumXiaomi = {}\n",
    "sumSamsung = {}\n",
    "sumOppo = {}\n",
    "sumVivo = {}\n",
    "sumHuawei = {}\n",
    "sumRealme = {}\n",
    "for kat in listKategori:\n",
    "    sumXiaomi[kat] = 0\n",
    "    sumSamsung[kat] = 0\n",
    "    sumOppo[kat] = 0\n",
    "    sumVivo[kat] = 0\n",
    "    sumHuawei[kat] = 0\n",
    "    sumRealme[kat] = 0"
   ]
  },
  {
   "cell_type": "code",
   "execution_count": 3,
   "id": "af64c68e",
   "metadata": {},
   "outputs": [],
   "source": [
    "# pencacahan data kategori per produk \n",
    "for data in dataSheet1[\"nama produk\"]:\n",
    "    # ambil kategori dari data kolom nama_produk\n",
    "    kat = data[7:9] #membaca mulai digit 7 sampai digit 9\n",
    "    if data[:6] == \"Xiaomi\": #membaca 6 digit, digit ke 1-6\n",
    "        sumXiaomi[kat] += 1 #counter bertambah\n",
    "    kat = data[8:15] #membaca mulai digit 8 sampai digit 15\n",
    "    if data[:7] == \"Samsung\": #membaca 7 digit, digit ke 1-7\n",
    "        sumSamsung[kat] += 1 #counter bertambah\n",
    "    kat = data[5:8] #membaca mulai digit 5 sampai digit 8\n",
    "    if data[:4] == \"Oppo\": #membaca 4 digit, digit ke 1-4 \n",
    "        sumOppo[kat] += 1 #counter bertambah\n",
    "    kat = data[5:6] #membaca mulai digit 5 sampai digit 6\n",
    "    if data[:4] == \"Vivo\": #membaca 4 digit, digit ke 1-4 \n",
    "        sumVivo[kat] += 1 #counter bertambah\n",
    "    kat = data[7:11] #membaca mulai digit 7 sampai digit 11\n",
    "    if data[:6] == \"Huawei\": #membaca 6 digit, digit ke 1-6\n",
    "        sumHuawei[kat] += 1 #counter bertambah\n",
    "    kat = data[7:9] #membaca mulai digit 7 sampai digit 9\n",
    "    if data[:6] == \"Realme\": #membaca 6 digit, digit ke 1-6\n",
    "        sumRealme[kat] += 1 #counter bertambah"
   ]
  },
  {
   "cell_type": "code",
   "execution_count": 4,
   "id": "8693bdcf",
   "metadata": {},
   "outputs": [
    {
     "name": "stdout",
     "output_type": "stream",
     "text": [
      "Kategori/Series                       Mi        PO        Re   Galaxy-   GalaxyZ       Ren       Fin       A54       A74         Y         X         V      Nova      Mate        C2        8-        GT\n",
      "------------------------------------------------------------------------------------------------------------------------------------------------------------------------------------------------------------\n",
      "Xiaomi                                 3         7         5         0         0         0         0         0         0         0         0         0         0         0         0         0         0\n",
      "Samsung                                0         0         0        14         6         0         0         0         0         0         0         0         0         0         0         0         0\n",
      "Oppo                                   0         0         0         0         0         7         1         1         1         0         0         0         0         0         0         0         0\n",
      "Vivo                                   0         0         0         0         0         0         0         0         0         5         1         3         0         0         0         0         0\n",
      "Huawei                                 0         0         0         0         0         0         0         0         0         0         0         0         1         1         0         0         0\n",
      "Realme                                 0         0         0         0         0         0         0         0         0         0         0         0         0         0         1         1         1"
     ]
    }
   ],
   "source": [
    "# untuk tampilan output\n",
    "print(\"Kategori/Series\".ljust(30), end=\"\")\n",
    "\n",
    "for kat in listKategori:\n",
    "    print(kat.rjust(10), end=\"\")\n",
    "print()\n",
    "print(\"------------------------------------------------------------------------------------------------------------------------------------------------------------------------------------------------------------\")\n",
    "print(\"Xiaomi\".ljust(30), end=\"\")\n",
    "for kat in listKategori:\n",
    "    print(str(sumXiaomi[kat]).rjust(10), end=\"\")\n",
    "\n",
    "print()\n",
    "print(\"Samsung\".ljust(30), end=\"\")\n",
    "for kat in listKategori:\n",
    "    print(str(sumSamsung[kat]).rjust(10), end=\"\")\n",
    "    \n",
    "print()\n",
    "print(\"Oppo\".ljust(30), end=\"\")\n",
    "for kat in listKategori:\n",
    "    print(str(sumOppo[kat]).rjust(10), end=\"\")\n",
    "    \n",
    "print()\n",
    "print(\"Vivo\".ljust(30), end=\"\")\n",
    "for kat in listKategori:\n",
    "    print(str(sumVivo[kat]).rjust(10), end=\"\")\n",
    "    \n",
    "print()\n",
    "print(\"Huawei\".ljust(30), end=\"\")\n",
    "for kat in listKategori:\n",
    "    print(str(sumHuawei[kat]).rjust(10), end=\"\")\n",
    "    \n",
    "print()\n",
    "print(\"Realme\".ljust(30), end=\"\")\n",
    "for kat in listKategori:\n",
    "    print(str(sumRealme[kat]).rjust(10), end=\"\")"
   ]
  },
  {
   "cell_type": "code",
   "execution_count": 5,
   "id": "373b07a2",
   "metadata": {},
   "outputs": [
    {
     "name": "stdout",
     "output_type": "stream",
     "text": [
      "Kategori/Series(Galaxy|GalaxyZ)       Galaxy-   GalaxyZ\n",
      "------------------------------------------------------------\n",
      "Samsung                                  14       6"
     ]
    }
   ],
   "source": [
    "# list seluruh Kategori\n",
    "listKategori = [\"Galaxy-\", \"GalaxyZ\"]\n",
    "# inisialisasi awal per produk\n",
    "sumSamsung = {}\n",
    "for kat in listKategori:\n",
    "    sumSamsung[kat] = 0\n",
    "\n",
    "# pencacahan data kategori per produk \n",
    "for data in dataSheet1[\"nama produk\"]:\n",
    "    # ambil kategori dari data kolom nama_produk\n",
    "    kat = data[8:15] #membaca mulai digit 8 sampai digit 15\n",
    "    if data[:7] == \"Samsung\": #membaca 7 digit, digit ke 1-7\n",
    "        sumSamsung[kat] += 1\n",
    "        \n",
    "# untuk tampilan output\n",
    "print(\"Kategori/Series(Galaxy|GalaxyZ)\".ljust(35), end=\"\")\n",
    "\n",
    "for kat in listKategori:\n",
    "    print(kat.rjust(10), end=\"\")\n",
    "print()\n",
    "print(\"------------------------------------------------------------\")\n",
    "print(\"Samsung\".ljust(35), end=\"\")\n",
    "for kat in listKategori:\n",
    "    print(str(sumSamsung[kat]).rjust(8), end=\"\")"
   ]
  },
  {
   "cell_type": "code",
   "execution_count": 6,
   "id": "7888223a",
   "metadata": {},
   "outputs": [
    {
     "name": "stdout",
     "output_type": "stream",
     "text": [
      "Kategori/Series(Mi|POCO|Redmi)                  Mi        PO        Re\n",
      "-----------------------------------------------------------------------\n",
      "Xiaomi                                           3         7         5"
     ]
    }
   ],
   "source": [
    "# list seluruh Kategori\n",
    "listKategori = [\"Mi\", \"PO\", \"Re\"]\n",
    "# inisialisasi awal per produk\n",
    "sumXiaomi = {}\n",
    "for kat in listKategori:\n",
    "    sumXiaomi[kat] = 0\n",
    "\n",
    "# pencacahan data kategori per produk \n",
    "for data in dataSheet1[\"nama produk\"]:\n",
    "    # ambil kategori dari data kolom nama_produk\n",
    "    kat = data[7:9] #membaca mulai digit 7 sampai digit 9\n",
    "    if data[:6] == \"Xiaomi\": #membaca 6 digit, digit ke 1-6\n",
    "        sumXiaomi[kat] += 1\n",
    "        \n",
    "# untuk tampilan output\n",
    "print(\"Kategori/Series(Mi|POCO|Redmi)\".ljust(40), end=\"\")\n",
    "\n",
    "for kat in listKategori:\n",
    "    print(kat.rjust(10), end=\"\")\n",
    "print()\n",
    "print(\"-----------------------------------------------------------------------\")\n",
    "print(\"Xiaomi\".ljust(40), end=\"\")\n",
    "for kat in listKategori:\n",
    "    print(str(sumXiaomi[kat]).rjust(10), end=\"\")"
   ]
  },
  {
   "cell_type": "code",
   "execution_count": 7,
   "id": "b007e816",
   "metadata": {},
   "outputs": [
    {
     "name": "stdout",
     "output_type": "stream",
     "text": [
      "Kategori/Series(Reno|Find|A54|A74)             Ren       Fin       A54       A74\n",
      "----------------------------------------------------------------------------------\n",
      "Oppo                                             7         1         1         1"
     ]
    }
   ],
   "source": [
    "# list seluruh Kategori\n",
    "listKategori = [\"Ren\", \"Fin\", \"A54\", \"A74\"]\n",
    "# inisialisasi awal per produk\n",
    "sumOppo = {}\n",
    "for kat in listKategori:\n",
    "    sumOppo[kat] = 0\n",
    "\n",
    "# pencacahan data kategori per produk \n",
    "for data in dataSheet1[\"nama produk\"]:\n",
    "    # ambil kategori dari data kolom nama_produk\n",
    "    kat = data[5:8] #membaca mulai digit 5 sampai digit 8\n",
    "    if data[:4] == \"Oppo\": #membaca 4 digit, digit ke 1-4\n",
    "        sumOppo[kat] += 1\n",
    "        \n",
    "# untuk tampilan output\n",
    "print(\"Kategori/Series(Reno|Find|A54|A74)\".ljust(40), end=\"\")\n",
    "\n",
    "for kat in listKategori:\n",
    "    print(kat.rjust(10), end=\"\")\n",
    "print()\n",
    "print(\"----------------------------------------------------------------------------------\")\n",
    "print(\"Oppo\".ljust(40), end=\"\")\n",
    "for kat in listKategori:\n",
    "    print(str(sumOppo[kat]).rjust(10), end=\"\")"
   ]
  },
  {
   "cell_type": "code",
   "execution_count": 8,
   "id": "55c3ec08",
   "metadata": {},
   "outputs": [
    {
     "name": "stdout",
     "output_type": "stream",
     "text": [
      "Kategori/Series(Y Series|X Series|V Series)           Y         X         V\n",
      "----------------------------------------------------------------------------------\n",
      "Vivo                                                  5         1         3"
     ]
    }
   ],
   "source": [
    "# list seluruh Kategori\n",
    "listKategori = [\"Y\", \"X\", \"V\"]\n",
    "# inisialisasi awal per produk\n",
    "sumVivo = {}\n",
    "for kat in listKategori:\n",
    "    sumVivo[kat] = 0\n",
    "\n",
    "# pencacahan data kategori per produk \n",
    "for data in dataSheet1[\"nama produk\"]:\n",
    "    # ambil kategori dari data kolom nama_produk\n",
    "    kat = data[5:6] #membaca mulai digit 5 sampai digit 6\n",
    "    if data[:4] == \"Vivo\": #membaca 4 digit, digit ke 1-4\n",
    "        sumVivo[kat] += 1\n",
    "        \n",
    "# untuk tampilan output\n",
    "print(\"Kategori/Series(Y Series|X Series|V Series)\".ljust(45), end=\"\")\n",
    "\n",
    "for kat in listKategori:\n",
    "    print(kat.rjust(10), end=\"\")\n",
    "print()\n",
    "print(\"----------------------------------------------------------------------------------\")\n",
    "print(\"Vivo\".ljust(45), end=\"\")\n",
    "for kat in listKategori:\n",
    "    print(str(sumVivo[kat]).rjust(10), end=\"\")"
   ]
  },
  {
   "cell_type": "code",
   "execution_count": 9,
   "id": "97d438e1",
   "metadata": {},
   "outputs": [
    {
     "name": "stdout",
     "output_type": "stream",
     "text": [
      "Kategori/Series(Nova|Mate)                    Nova      Mate\n",
      "----------------------------------------------------------------------------------\n",
      "Huawei                                           1         1"
     ]
    }
   ],
   "source": [
    "# list seluruh Kategori\n",
    "listKategori = [\"Nova\", \"Mate\"]\n",
    "# inisialisasi awal per produk\n",
    "sumHuawei = {}\n",
    "for kat in listKategori:\n",
    "    sumHuawei[kat] = 0\n",
    "\n",
    "# pencacahan data kategori per produk \n",
    "for data in dataSheet1[\"nama produk\"]:\n",
    "    # ambil kategori dari data kolom nama_produk\n",
    "    kat = data[7:11] #membaca mulai digit 7 sampai digit 11\n",
    "    if data[:6] == \"Huawei\": #membaca 6 digit, digit ke 1-6\n",
    "        sumHuawei[kat] += 1\n",
    "        \n",
    "# untuk tampilan output\n",
    "print(\"Kategori/Series(Nova|Mate)\".ljust(40), end=\"\")\n",
    "\n",
    "for kat in listKategori:\n",
    "    print(kat.rjust(10), end=\"\")\n",
    "print()\n",
    "print(\"----------------------------------------------------------------------------------\")\n",
    "print(\"Huawei\".ljust(40), end=\"\")\n",
    "for kat in listKategori:\n",
    "    print(str(sumHuawei[kat]).rjust(10), end=\"\")"
   ]
  },
  {
   "cell_type": "code",
   "execution_count": 10,
   "id": "db83d403",
   "metadata": {},
   "outputs": [
    {
     "name": "stdout",
     "output_type": "stream",
     "text": [
      "Kategori/Series(C|8|GT)                         C2        8-        GT\n",
      "----------------------------------------------------------------------------------\n",
      "Realme                                           1         1         1"
     ]
    }
   ],
   "source": [
    "# list seluruh Kategori\n",
    "listKategori = [\"C2\", \"8-\", \"GT\"]\n",
    "# inisialisasi awal per produk\n",
    "sumRealme = {}\n",
    "for kat in listKategori:\n",
    "    sumRealme[kat] = 0\n",
    "\n",
    "# pencacahan data kategori per produk \n",
    "for data in dataSheet1[\"nama produk\"]:\n",
    "    # ambil kategori dari data kolom nama_produk\n",
    "    kat = data[7:9] #membaca mulai digit 7 sampai digit 9\n",
    "    if data[:6] == \"Realme\": #membaca 6 digit, digit ke 1-6\n",
    "        sumRealme[kat] += 1\n",
    "        \n",
    "# untuk tampilan output\n",
    "print(\"Kategori/Series(C|8|GT)\".ljust(40), end=\"\")\n",
    "\n",
    "for kat in listKategori:\n",
    "    print(kat.rjust(10), end=\"\")\n",
    "print()\n",
    "print(\"----------------------------------------------------------------------------------\")\n",
    "print(\"Realme\".ljust(40), end=\"\")\n",
    "for kat in listKategori:\n",
    "    print(str(sumRealme[kat]).rjust(10), end=\"\")"
   ]
  },
  {
   "cell_type": "code",
   "execution_count": null,
   "id": "50dd7145",
   "metadata": {},
   "outputs": [],
   "source": []
  }
 ],
 "metadata": {
  "kernelspec": {
   "display_name": "Python 3 (ipykernel)",
   "language": "python",
   "name": "python3"
  },
  "language_info": {
   "codemirror_mode": {
    "name": "ipython",
    "version": 3
   },
   "file_extension": ".py",
   "mimetype": "text/x-python",
   "name": "python",
   "nbconvert_exporter": "python",
   "pygments_lexer": "ipython3",
   "version": "3.9.7"
  }
 },
 "nbformat": 4,
 "nbformat_minor": 5
}
